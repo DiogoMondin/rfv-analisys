{
  "nbformat": 4,
  "nbformat_minor": 0,
  "metadata": {
    "colab": {
      "provenance": [],
      "authorship_tag": "ABX9TyOLzX8bqLR3oLXu1rCYGkit",
      "include_colab_link": true
    },
    "kernelspec": {
      "name": "python3",
      "display_name": "Python 3"
    },
    "language_info": {
      "name": "python"
    }
  },
  "cells": [
    {
      "cell_type": "markdown",
      "metadata": {
        "id": "view-in-github",
        "colab_type": "text"
      },
      "source": [
        "<a href=\"https://colab.research.google.com/github/DiogoMondin/rfv-analisys/blob/main/T%26D_RFV.ipynb\" target=\"_parent\"><img src=\"https://colab.research.google.com/assets/colab-badge.svg\" alt=\"Open In Colab\"/></a>"
      ]
    },
    {
      "cell_type": "markdown",
      "source": [
        "# Imports"
      ],
      "metadata": {
        "id": "V-n5mXLoh-8u"
      }
    },
    {
      "cell_type": "code",
      "execution_count": null,
      "metadata": {
        "id": "kIyhG66jdKSM"
      },
      "outputs": [],
      "source": [
        "from pyspark.sql import SparkSession\n",
        "import pyspark.sql.types as T\n",
        "import pyspark.sql.functions as F\n",
        "\n",
        "import matplotlib.pyplot as plt"
      ]
    },
    {
      "cell_type": "markdown",
      "source": [
        "# Table"
      ],
      "metadata": {
        "id": "pDx-aFa5iCYO"
      }
    },
    {
      "cell_type": "code",
      "source": [
        "customer_dataset = \"/content/customer_dataset_csv.txt\""
      ],
      "metadata": {
        "id": "57NxaSPOiEa0"
      },
      "execution_count": null,
      "outputs": []
    },
    {
      "cell_type": "code",
      "source": [
        "spark = (\n",
        "    SparkSession.builder\n",
        "    .appName(\"RFV Analysis\")\n",
        "    .getOrCreate()\n",
        ")"
      ],
      "metadata": {
        "id": "H8qltjUdkDqX"
      },
      "execution_count": null,
      "outputs": []
    },
    {
      "cell_type": "code",
      "source": [
        "customer_df = (\n",
        "    spark.read\n",
        "    .option(\"header\", \"true\")\n",
        "    .option(\"inferschema\", \"true\")\n",
        "    .csv(customer_dataset)\n",
        ")"
      ],
      "metadata": {
        "id": "3Zleuy0BjrvR"
      },
      "execution_count": null,
      "outputs": []
    },
    {
      "cell_type": "markdown",
      "source": [
        "# Data Exploring"
      ],
      "metadata": {
        "id": "PLwHw5Q9k0mO"
      }
    },
    {
      "cell_type": "code",
      "source": [
        "customer_df.printSchema()"
      ],
      "metadata": {
        "colab": {
          "base_uri": "https://localhost:8080/"
        },
        "id": "2gYrTAKHzsL9",
        "outputId": "12419111-bb73-4431-9787-12435329ae11"
      },
      "execution_count": null,
      "outputs": [
        {
          "output_type": "stream",
          "name": "stdout",
          "text": [
            "root\n",
            " |-- customer_id: string (nullable = true)\n",
            " |-- favorite_category: string (nullable = true)\n",
            " |-- acquisition_channel: string (nullable = true)\n",
            " |-- first_purchase_date: string (nullable = true)\n",
            " |-- total_orders: integer (nullable = true)\n",
            " |-- total_spent: integer (nullable = true)\n",
            " |-- last_purchase_date: string (nullable = true)\n",
            " |-- returns_count: integer (nullable = true)\n",
            " |-- avg_order_value: integer (nullable = true)\n",
            " |-- days_since_last_purchase: integer (nullable = true)\n",
            " |-- customer_lifetime_months: integer (nullable = true)\n",
            "\n"
          ]
        }
      ]
    },
    {
      "cell_type": "code",
      "source": [
        "customer_df.describe().show()"
      ],
      "metadata": {
        "colab": {
          "base_uri": "https://localhost:8080/"
        },
        "id": "K8kvIxg0kKo1",
        "outputId": "0abbeed2-c331-4f90-e14a-3617e8e15450"
      },
      "execution_count": null,
      "outputs": [
        {
          "output_type": "stream",
          "name": "stdout",
          "text": [
            "+-------+-----------+-----------------+-------------------+-------------------+-----------------+------------------+------------------+------------------+-----------------+------------------------+------------------------+\n",
            "|summary|customer_id|favorite_category|acquisition_channel|first_purchase_date|     total_orders|       total_spent|last_purchase_date|     returns_count|  avg_order_value|days_since_last_purchase|customer_lifetime_months|\n",
            "+-------+-----------+-----------------+-------------------+-------------------+-----------------+------------------+------------------+------------------+-----------------+------------------------+------------------------+\n",
            "|  count|         35|               35|                 35|                 35|               35|                35|                35|                35|               35|                      35|                      35|\n",
            "|   mean|       NULL|             NULL|               NULL|               NULL|10.82857142857143|7965.5142857142855|              NULL|0.8857142857142857|766.8571428571429|                    92.2|      15.542857142857143|\n",
            "| stddev|       NULL|             NULL|               NULL|               NULL|8.265753993171478| 6066.909976990558|              NULL|0.9000466841300208|352.3320745494264|        98.9883534444687|       7.204340428408652|\n",
            "|    min|   CUST0001|       Acessórios|              Email|         02/05/2024|                1|               567|        01/03/2024|                 0|              215|                       0|                       1|\n",
            "|    max|   CUST0035|          Tablets|           Orgânico|         31/03/2024|               32|             19876|        31/10/2023|                 3|             2100|                     343|                      24|\n",
            "+-------+-----------+-----------------+-------------------+-------------------+-----------------+------------------+------------------+------------------+-----------------+------------------------+------------------------+\n",
            "\n"
          ]
        }
      ]
    },
    {
      "cell_type": "code",
      "source": [
        "customer_df.show()"
      ],
      "metadata": {
        "colab": {
          "base_uri": "https://localhost:8080/"
        },
        "id": "855zQ6PaiL26",
        "outputId": "c696441d-2889-40ae-a2b2-54839e627fe7"
      },
      "execution_count": null,
      "outputs": [
        {
          "output_type": "stream",
          "name": "stdout",
          "text": [
            "+-----------+-----------------+-------------------+-------------------+------------+-----------+------------------+-------------+---------------+------------------------+------------------------+\n",
            "|customer_id|favorite_category|acquisition_channel|first_purchase_date|total_orders|total_spent|last_purchase_date|returns_count|avg_order_value|days_since_last_purchase|customer_lifetime_months|\n",
            "+-----------+-----------------+-------------------+-------------------+------------+-----------+------------------+-------------+---------------+------------------------+------------------------+\n",
            "|   CUST0001|          Tablets|             Google|         16/11/2022|          10|      17302|        25/03/2024|            0|           1730|                     124|                      20|\n",
            "|   CUST0002|            Games|             Google|         18/04/2023|          21|      18160|        21/07/2024|            0|            865|                       6|                      15|\n",
            "|   CUST0003|          Tablets|           Orgânico|         10/01/2023|          16|       7309|        30/04/2024|            0|            457|                      88|                      18|\n",
            "|   CUST0004|            Audio|           Facebook|         11/08/2022|           7|       7844|        16/04/2024|            1|           1121|                     101|                      23|\n",
            "|   CUST0005|       Acessórios|           Facebook|         15/10/2023|           5|       1075|        08/09/2023|            2|            215|                     323|                       9|\n",
            "|   CUST0006|       Acessórios|          Indicação|         02/05/2024|           1|       2100|        18/06/2024|            1|           2100|                      39|                       2|\n",
            "|   CUST0007|          Tablets|              Email|         17/02/2023|           5|       4597|        01/03/2024|            1|            919|                     148|                      17|\n",
            "|   CUST0008|          Tablets|              Email|         30/10/2023|          19|       8982|        16/06/2024|            1|            473|                      41|                       8|\n",
            "|   CUST0009|            Games|             Google|         11/03/2024|           6|       2014|        09/04/2024|            0|            336|                     109|                       4|\n",
            "|   CUST0010|            Audio|           Orgânico|         06/05/2023|          32|      17626|        16/07/2024|            0|            551|                      11|                      14|\n",
            "|   CUST0011|        Notebooks|           Facebook|         12/01/2023|          12|       6432|        14/02/2024|            2|            536|                     164|                      18|\n",
            "|   CUST0012|      Smartphones|             Google|         22/07/2022|           4|       3521|        11/01/2024|            0|            880|                     198|                      24|\n",
            "|   CUST0013|            Games|          Indicação|         19/09/2022|          25|      13987|        27/07/2024|            1|            559|                       0|                      22|\n",
            "|   CUST0014|            Audio|              Email|         03/03/2023|           3|       2789|        19/05/2024|            1|            930|                      69|                      16|\n",
            "|   CUST0015|          Tablets|           Orgânico|         28/11/2022|           8|       6234|        02/06/2024|            0|            779|                      55|                      20|\n",
            "|   CUST0016|       Acessórios|           Facebook|         15/06/2024|           2|        845|        22/06/2024|            0|            423|                      35|                       1|\n",
            "|   CUST0017|            Games|             Google|         04/12/2022|          16|      14523|        18/07/2024|            0|            908|                       9|                      19|\n",
            "|   CUST0018|      Smartphones|              Email|         29/08/2022|           6|       2945|        31/10/2023|            3|            491|                     270|                      23|\n",
            "|   CUST0019|            Audio|          Indicação|         07/04/2023|          29|      19876|        25/07/2024|            2|            685|                       2|                      15|\n",
            "|   CUST0020|        Notebooks|           Orgânico|         13/05/2024|           3|       1654|        15/07/2024|            1|            551|                      12|                       2|\n",
            "+-----------+-----------------+-------------------+-------------------+------------+-----------+------------------+-------------+---------------+------------------------+------------------------+\n",
            "only showing top 20 rows\n",
            "\n"
          ]
        }
      ]
    },
    {
      "cell_type": "code",
      "source": [
        "def add_rfv_cluster(df, col_name, new_col_name, reverse=False):\n",
        "    df = df.withColumn(col_name, F.col(col_name).cast(\"int\"))\n",
        "\n",
        "    q1, q2, q3, q4 = df.approxQuantile(col_name, [0.2, 0.4, 0.6, 0.8], 0)\n",
        "\n",
        "    if reverse:\n",
        "        df = df.withColumn(\n",
        "            new_col_name,\n",
        "            F.when(F.col(col_name) <= q1, 1)\n",
        "             .when(F.col(col_name) <= q2, 2)\n",
        "             .when(F.col(col_name) <= q3, 3)\n",
        "             .when(F.col(col_name) <= q4, 4)\n",
        "             .otherwise(5)\n",
        "        )\n",
        "    else:\n",
        "        df = df.withColumn(\n",
        "            new_col_name,\n",
        "            F.when(F.col(col_name) <= q1, 5)\n",
        "             .when(F.col(col_name) <= q2, 4)\n",
        "             .when(F.col(col_name) <= q3, 3)\n",
        "             .when(F.col(col_name) <= q4, 2)\n",
        "             .otherwise(1)\n",
        "        )\n",
        "\n",
        "    return df"
      ],
      "metadata": {
        "id": "TnL0ZyKq3ozR"
      },
      "execution_count": null,
      "outputs": []
    },
    {
      "cell_type": "code",
      "source": [
        "# days_since_last_purchase → recency cluster\n",
        "customer_df = add_rfv_cluster(customer_df, \"days_since_last_purchase\", \"recency_cluster\", reverse=False)\n",
        "\n",
        "# total_orders → frequency cluster\n",
        "customer_df = add_rfv_cluster(customer_df, \"total_orders\", \"frequency_cluster\", reverse=True)\n",
        "\n",
        "# total_spent → value cluster\n",
        "customer_df = add_rfv_cluster(customer_df, \"total_spent\", \"value_cluster\", reverse=True)\n",
        "\n",
        "# all clusters\n",
        "\n",
        "customer_df = (\n",
        "    customer_df\n",
        "    .withColumn(\"rfv_cluster\", F.concat(F.col(\"recency_cluster\"), F.col(\"frequency_cluster\"), F.col(\"value_cluster\")))\n",
        ")"
      ],
      "metadata": {
        "id": "aKHdP2b74YgW"
      },
      "execution_count": null,
      "outputs": []
    },
    {
      "cell_type": "code",
      "source": [
        "customer_df.show()"
      ],
      "metadata": {
        "colab": {
          "base_uri": "https://localhost:8080/"
        },
        "id": "5PivMmwV8ZTG",
        "outputId": "920cf1be-dafd-426f-aa39-e1a7a3a0e2ff"
      },
      "execution_count": null,
      "outputs": [
        {
          "output_type": "stream",
          "name": "stdout",
          "text": [
            "+-----------+-----------------+-------------------+-------------------+------------+-----------+------------------+-------------+---------------+------------------------+------------------------+---------------+-----------------+-------------+-----------+\n",
            "|customer_id|favorite_category|acquisition_channel|first_purchase_date|total_orders|total_spent|last_purchase_date|returns_count|avg_order_value|days_since_last_purchase|customer_lifetime_months|recency_cluster|frequency_cluster|value_cluster|rfv_cluster|\n",
            "+-----------+-----------------+-------------------+-------------------+------------+-----------+------------------+-------------+---------------+------------------------+------------------------+---------------+-----------------+-------------+-----------+\n",
            "|   CUST0001|          Tablets|             Google|         16/11/2022|          10|      17302|        25/03/2024|            0|           1730|                     124|                      20|              2|                3|            5|        235|\n",
            "|   CUST0002|            Games|             Google|         18/04/2023|          21|      18160|        21/07/2024|            0|            865|                       6|                      15|              5|                5|            5|        555|\n",
            "|   CUST0003|          Tablets|           Orgânico|         10/01/2023|          16|       7309|        30/04/2024|            0|            457|                      88|                      18|              3|                4|            3|        343|\n",
            "|   CUST0004|            Audio|           Facebook|         11/08/2022|           7|       7844|        16/04/2024|            1|           1121|                     101|                      23|              2|                3|            4|        234|\n",
            "|   CUST0005|       Acessórios|           Facebook|         15/10/2023|           5|       1075|        08/09/2023|            2|            215|                     323|                       9|              1|                2|            1|        121|\n",
            "|   CUST0006|       Acessórios|          Indicação|         02/05/2024|           1|       2100|        18/06/2024|            1|           2100|                      39|                       2|              3|                1|            1|        311|\n",
            "|   CUST0007|          Tablets|              Email|         17/02/2023|           5|       4597|        01/03/2024|            1|            919|                     148|                      17|              2|                2|            2|        222|\n",
            "|   CUST0008|          Tablets|              Email|         30/10/2023|          19|       8982|        16/06/2024|            1|            473|                      41|                       8|              3|                5|            4|        354|\n",
            "|   CUST0009|            Games|             Google|         11/03/2024|           6|       2014|        09/04/2024|            0|            336|                     109|                       4|              2|                2|            1|        221|\n",
            "|   CUST0010|            Audio|           Orgânico|         06/05/2023|          32|      17626|        16/07/2024|            0|            551|                      11|                      14|              4|                5|            5|        455|\n",
            "|   CUST0011|        Notebooks|           Facebook|         12/01/2023|          12|       6432|        14/02/2024|            2|            536|                     164|                      18|              2|                4|            3|        243|\n",
            "|   CUST0012|      Smartphones|             Google|         22/07/2022|           4|       3521|        11/01/2024|            0|            880|                     198|                      24|              1|                1|            2|        112|\n",
            "|   CUST0013|            Games|          Indicação|         19/09/2022|          25|      13987|        27/07/2024|            1|            559|                       0|                      22|              5|                5|            4|        554|\n",
            "|   CUST0014|            Audio|              Email|         03/03/2023|           3|       2789|        19/05/2024|            1|            930|                      69|                      16|              3|                1|            2|        312|\n",
            "|   CUST0015|          Tablets|           Orgânico|         28/11/2022|           8|       6234|        02/06/2024|            0|            779|                      55|                      20|              3|                3|            3|        333|\n",
            "|   CUST0016|       Acessórios|           Facebook|         15/06/2024|           2|        845|        22/06/2024|            0|            423|                      35|                       1|              4|                1|            1|        411|\n",
            "|   CUST0017|            Games|             Google|         04/12/2022|          16|      14523|        18/07/2024|            0|            908|                       9|                      19|              4|                4|            4|        444|\n",
            "|   CUST0018|      Smartphones|              Email|         29/08/2022|           6|       2945|        31/10/2023|            3|            491|                     270|                      23|              1|                2|            2|        122|\n",
            "|   CUST0019|            Audio|          Indicação|         07/04/2023|          29|      19876|        25/07/2024|            2|            685|                       2|                      15|              5|                5|            5|        555|\n",
            "|   CUST0020|        Notebooks|           Orgânico|         13/05/2024|           3|       1654|        15/07/2024|            1|            551|                      12|                       2|              4|                1|            1|        411|\n",
            "+-----------+-----------------+-------------------+-------------------+------------+-----------+------------------+-------------+---------------+------------------------+------------------------+---------------+-----------------+-------------+-----------+\n",
            "only showing top 20 rows\n",
            "\n"
          ]
        }
      ]
    },
    {
      "cell_type": "code",
      "source": [
        "(\n",
        "    customer_df\n",
        "    .groupBy(\"recency_cluster\")\n",
        "    .agg(\n",
        "        F.round(F.avg(F.col(\"days_since_last_purchase\")), 2).alias(\"avg_days_since_last_purchase\")\n",
        "    )\n",
        "    .orderBy(\"recency_cluster\")\n",
        "    .show()\n",
        ")"
      ],
      "metadata": {
        "colab": {
          "base_uri": "https://localhost:8080/"
        },
        "id": "xsC3i9-OCha3",
        "outputId": "23d0b98f-a77c-4348-be2a-062b3261e840"
      },
      "execution_count": null,
      "outputs": [
        {
          "output_type": "stream",
          "name": "stdout",
          "text": [
            "+---------------+----------------------------+\n",
            "|recency_cluster|avg_days_since_last_purchase|\n",
            "+---------------+----------------------------+\n",
            "|              1|                      256.29|\n",
            "|              2|                       130.0|\n",
            "|              3|                       55.43|\n",
            "|              4|                       15.71|\n",
            "|              5|                        3.57|\n",
            "+---------------+----------------------------+\n",
            "\n"
          ]
        }
      ]
    },
    {
      "cell_type": "code",
      "source": [
        "(\n",
        "    customer_df\n",
        "    .groupBy(\"frequency_cluster\")\n",
        "    .agg(\n",
        "        F.round(F.avg(F.col(\"total_orders\")), 2).alias(\"avg_total_orders\")\n",
        "    )\n",
        "    .orderBy(\"frequency_cluster\")\n",
        "    .show()\n",
        ")"
      ],
      "metadata": {
        "colab": {
          "base_uri": "https://localhost:8080/"
        },
        "id": "XKOjX11LkIls",
        "outputId": "6463972c-56c4-45f0-f63f-738ba9dc9666"
      },
      "execution_count": null,
      "outputs": [
        {
          "output_type": "stream",
          "name": "stdout",
          "text": [
            "+-----------------+----------------+\n",
            "|frequency_cluster|avg_total_orders|\n",
            "+-----------------+----------------+\n",
            "|                1|             2.5|\n",
            "|                2|             5.5|\n",
            "|                3|             8.0|\n",
            "|                4|           14.29|\n",
            "|                5|           24.29|\n",
            "+-----------------+----------------+\n",
            "\n"
          ]
        }
      ]
    },
    {
      "cell_type": "code",
      "source": [
        "(\n",
        "    customer_df\n",
        "    .groupBy(\"value_cluster\")\n",
        "    .agg(\n",
        "        F.round(F.avg(F.col(\"total_spent\")), 2).alias(\"avg_total_spent\")\n",
        "    )\n",
        "    .orderBy(\"value_cluster\")\n",
        "    .show()\n",
        ")"
      ],
      "metadata": {
        "colab": {
          "base_uri": "https://localhost:8080/"
        },
        "id": "QPUIAO2TrjW1",
        "outputId": "8b8da2ec-f55d-4dff-dd78-7a4caf195ea3"
      },
      "execution_count": null,
      "outputs": [
        {
          "output_type": "stream",
          "name": "stdout",
          "text": [
            "+-------------+---------------+\n",
            "|value_cluster|avg_total_spent|\n",
            "+-------------+---------------+\n",
            "|            1|        1311.14|\n",
            "|            2|        3516.57|\n",
            "|            3|        6424.71|\n",
            "|            4|       10903.14|\n",
            "|            5|        17672.0|\n",
            "+-------------+---------------+\n",
            "\n"
          ]
        }
      ]
    },
    {
      "cell_type": "code",
      "source": [
        "customer_clusters_df = (\n",
        "    customer_df\n",
        "    .withColumn(\n",
        "        \"tag\",\n",
        "        F.when(\n",
        "            (F.col(\"days_since_last_purchase\") <= 30) &\n",
        "            (F.col(\"total_orders\") >= 8) &\n",
        "            (F.col(\"total_spent\") >= 5000),\n",
        "            \"champions\"\n",
        "        ).when(\n",
        "            (F.col(\"days_since_last_purchase\") > 90) &\n",
        "            (F.col(\"total_orders\") >= 3) &\n",
        "            (F.col(\"total_spent\") >= 1000),\n",
        "            \"at risk\"\n",
        "        ).when(\n",
        "            (F.col(\"days_since_last_purchase\") <= 60) &\n",
        "            (F.col(\"total_orders\") <= 2),\n",
        "            \"new clients\"\n",
        "        ).otherwise(\"loyal\")\n",
        "    )\n",
        "    .withColumn(\n",
        "        \"rfv_score\",\n",
        "        (F.col(\"recency_cluster\") * 0.3) + (F.col(\"frequency_cluster\") * 0.3) + (F.col(\"value_cluster\") * 0.4)\n",
        "    )\n",
        ")"
      ],
      "metadata": {
        "id": "L_Tblc3oCu4y"
      },
      "execution_count": null,
      "outputs": []
    },
    {
      "cell_type": "code",
      "source": [
        "(\n",
        "    customer_clusters_df\n",
        "    .select(\n",
        "        \"days_since_last_purchase\",\n",
        "        \"total_orders\",\n",
        "        \"total_spent\",\n",
        "        \"recency_cluster\", \"frequency_cluster\", \"value_cluster\",\n",
        "        \"rfv_score\",\n",
        "        \"tag\"\n",
        "    )\n",
        "    .show()\n",
        ")"
      ],
      "metadata": {
        "colab": {
          "base_uri": "https://localhost:8080/"
        },
        "id": "FaG8j0hrGnll",
        "outputId": "b21dc435-c2a8-48e4-c0e7-d520b576fdde"
      },
      "execution_count": null,
      "outputs": [
        {
          "output_type": "stream",
          "name": "stdout",
          "text": [
            "+------------------------+------------+-----------+---------------+-----------------+-------------+------------------+-----------+\n",
            "|days_since_last_purchase|total_orders|total_spent|recency_cluster|frequency_cluster|value_cluster|         rfv_score|        tag|\n",
            "+------------------------+------------+-----------+---------------+-----------------+-------------+------------------+-----------+\n",
            "|                     124|          10|      17302|              2|                3|            5|               3.5|    at risk|\n",
            "|                       6|          21|      18160|              5|                5|            5|               5.0|  champions|\n",
            "|                      88|          16|       7309|              3|                4|            3|               3.3|      loyal|\n",
            "|                     101|           7|       7844|              2|                3|            4|               3.1|    at risk|\n",
            "|                     323|           5|       1075|              1|                2|            1|1.2999999999999998|    at risk|\n",
            "|                      39|           1|       2100|              3|                1|            1|               1.6|new clients|\n",
            "|                     148|           5|       4597|              2|                2|            2|               2.0|    at risk|\n",
            "|                      41|          19|       8982|              3|                5|            4|               4.0|      loyal|\n",
            "|                     109|           6|       2014|              2|                2|            1|               1.6|    at risk|\n",
            "|                      11|          32|      17626|              4|                5|            5|               4.7|  champions|\n",
            "|                     164|          12|       6432|              2|                4|            3|               3.0|    at risk|\n",
            "|                     198|           4|       3521|              1|                1|            2|               1.4|    at risk|\n",
            "|                       0|          25|      13987|              5|                5|            4|               4.6|  champions|\n",
            "|                      69|           3|       2789|              3|                1|            2|               2.0|      loyal|\n",
            "|                      55|           8|       6234|              3|                3|            3|               3.0|      loyal|\n",
            "|                      35|           2|        845|              4|                1|            1|               1.9|new clients|\n",
            "|                       9|          16|      14523|              4|                4|            4|               4.0|  champions|\n",
            "|                     270|           6|       2945|              1|                2|            2|               1.7|    at risk|\n",
            "|                       2|          29|      19876|              5|                5|            5|               5.0|  champions|\n",
            "|                      12|           3|       1654|              4|                1|            1|               1.9|      loyal|\n",
            "+------------------------+------------+-----------+---------------+-----------------+-------------+------------------+-----------+\n",
            "only showing top 20 rows\n",
            "\n"
          ]
        }
      ]
    },
    {
      "cell_type": "code",
      "source": [
        "(\n",
        "    customer_clusters_df\n",
        "    .groupBy(\"tag\")\n",
        "    .agg(\n",
        "        F.round(F.avg(F.col(\"rfv_score\")), 2).alias(\"avg_rfv_score\")\n",
        "    )\n",
        "    .orderBy(\"avg_rfv_score\")\n",
        "    .show()\n",
        ")"
      ],
      "metadata": {
        "colab": {
          "base_uri": "https://localhost:8080/"
        },
        "id": "z5w1VaVcIVo1",
        "outputId": "e06ff411-0c71-4162-c578-7b0e73c98bea"
      },
      "execution_count": null,
      "outputs": [
        {
          "output_type": "stream",
          "name": "stdout",
          "text": [
            "+-----------+-------------+\n",
            "|        tag|avg_rfv_score|\n",
            "+-----------+-------------+\n",
            "|new clients|         1.75|\n",
            "|    at risk|         2.17|\n",
            "|      loyal|         2.74|\n",
            "|  champions|         4.57|\n",
            "+-----------+-------------+\n",
            "\n"
          ]
        }
      ]
    }
  ]
}