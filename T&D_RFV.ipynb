{
  "nbformat": 4,
  "nbformat_minor": 0,
  "metadata": {
    "colab": {
      "provenance": [],
      "authorship_tag": "ABX9TyMrAhaPjITaLkgvQMOxLVoX",
      "include_colab_link": true
    },
    "kernelspec": {
      "name": "python3",
      "display_name": "Python 3"
    },
    "language_info": {
      "name": "python"
    }
  },
  "cells": [
    {
      "cell_type": "markdown",
      "metadata": {
        "id": "view-in-github",
        "colab_type": "text"
      },
      "source": [
        "<a href=\"https://colab.research.google.com/github/DiogoMondin/rfv-analisys/blob/main/T%26D_RFV.ipynb\" target=\"_parent\"><img src=\"https://colab.research.google.com/assets/colab-badge.svg\" alt=\"Open In Colab\"/></a>"
      ]
    },
    {
      "cell_type": "markdown",
      "source": [
        "# Imports"
      ],
      "metadata": {
        "id": "V-n5mXLoh-8u"
      }
    },
    {
      "cell_type": "code",
      "execution_count": 5,
      "metadata": {
        "id": "kIyhG66jdKSM"
      },
      "outputs": [],
      "source": [
        "from pyspark.sql import SparkSession\n",
        "import pyspark.sql.types as T\n",
        "import pyspark.sql.functions as F\n",
        "\n",
        "import matplotlib.pyplot as plt"
      ]
    },
    {
      "cell_type": "markdown",
      "source": [
        "# Table"
      ],
      "metadata": {
        "id": "pDx-aFa5iCYO"
      }
    },
    {
      "cell_type": "code",
      "source": [
        "customer_dataset = \"/content/customer_dataset_csv.txt\""
      ],
      "metadata": {
        "id": "57NxaSPOiEa0"
      },
      "execution_count": 6,
      "outputs": []
    },
    {
      "cell_type": "code",
      "source": [
        "spark = (\n",
        "    SparkSession.builder\n",
        "    .appName(\"RFV Analysis\")\n",
        "    .getOrCreate()\n",
        ")"
      ],
      "metadata": {
        "id": "H8qltjUdkDqX"
      },
      "execution_count": 7,
      "outputs": []
    },
    {
      "cell_type": "code",
      "source": [
        "customer_df = (\n",
        "    spark.read\n",
        "    .option(\"header\", \"true\")\n",
        "    .option(\"inferschema\", \"true\")\n",
        "    .csv(customer_dataset)\n",
        ")"
      ],
      "metadata": {
        "id": "3Zleuy0BjrvR"
      },
      "execution_count": 8,
      "outputs": []
    },
    {
      "cell_type": "markdown",
      "source": [
        "# Data Exploring"
      ],
      "metadata": {
        "id": "PLwHw5Q9k0mO"
      }
    },
    {
      "cell_type": "code",
      "source": [
        "customer_df.printSchema()"
      ],
      "metadata": {
        "colab": {
          "base_uri": "https://localhost:8080/"
        },
        "id": "2gYrTAKHzsL9",
        "outputId": "da8f048e-e02c-4eed-8a77-5e346e90fba8"
      },
      "execution_count": 9,
      "outputs": [
        {
          "output_type": "stream",
          "name": "stdout",
          "text": [
            "root\n",
            " |-- customer_id: string (nullable = true)\n",
            " |-- favorite_category: string (nullable = true)\n",
            " |-- acquisition_channel: string (nullable = true)\n",
            " |-- first_purchase_date: string (nullable = true)\n",
            " |-- total_orders: integer (nullable = true)\n",
            " |-- total_spent: integer (nullable = true)\n",
            " |-- last_purchase_date: string (nullable = true)\n",
            " |-- returns_count: integer (nullable = true)\n",
            " |-- avg_order_value: integer (nullable = true)\n",
            " |-- days_since_last_purchase: integer (nullable = true)\n",
            " |-- customer_lifetime_months: integer (nullable = true)\n",
            "\n"
          ]
        }
      ]
    },
    {
      "cell_type": "code",
      "source": [
        "customer_df.describe().show()"
      ],
      "metadata": {
        "colab": {
          "base_uri": "https://localhost:8080/"
        },
        "id": "K8kvIxg0kKo1",
        "outputId": "5b99c246-44f0-4faa-e75b-a7f212625922"
      },
      "execution_count": 10,
      "outputs": [
        {
          "output_type": "stream",
          "name": "stdout",
          "text": [
            "+-------+-----------+-----------------+-------------------+-------------------+-----------------+------------------+------------------+------------------+-----------------+------------------------+------------------------+\n",
            "|summary|customer_id|favorite_category|acquisition_channel|first_purchase_date|     total_orders|       total_spent|last_purchase_date|     returns_count|  avg_order_value|days_since_last_purchase|customer_lifetime_months|\n",
            "+-------+-----------+-----------------+-------------------+-------------------+-----------------+------------------+------------------+------------------+-----------------+------------------------+------------------------+\n",
            "|  count|         35|               35|                 35|                 35|               35|                35|                35|                35|               35|                      35|                      35|\n",
            "|   mean|       NULL|             NULL|               NULL|               NULL|10.82857142857143|7965.5142857142855|              NULL|0.8857142857142857|766.8571428571429|                    92.2|      15.542857142857143|\n",
            "| stddev|       NULL|             NULL|               NULL|               NULL|8.265753993171478| 6066.909976990558|              NULL|0.9000466841300208|352.3320745494264|        98.9883534444687|       7.204340428408652|\n",
            "|    min|   CUST0001|       Acessórios|              Email|         02/05/2024|                1|               567|        01/03/2024|                 0|              215|                       0|                       1|\n",
            "|    max|   CUST0035|          Tablets|           Orgânico|         31/03/2024|               32|             19876|        31/10/2023|                 3|             2100|                     343|                      24|\n",
            "+-------+-----------+-----------------+-------------------+-------------------+-----------------+------------------+------------------+------------------+-----------------+------------------------+------------------------+\n",
            "\n"
          ]
        }
      ]
    },
    {
      "cell_type": "code",
      "source": [
        "customer_df.show()"
      ],
      "metadata": {
        "colab": {
          "base_uri": "https://localhost:8080/"
        },
        "id": "855zQ6PaiL26",
        "outputId": "bebeef8a-1ea8-410d-a0a2-5fc13ef977e8"
      },
      "execution_count": 11,
      "outputs": [
        {
          "output_type": "stream",
          "name": "stdout",
          "text": [
            "+-----------+-----------------+-------------------+-------------------+------------+-----------+------------------+-------------+---------------+------------------------+------------------------+\n",
            "|customer_id|favorite_category|acquisition_channel|first_purchase_date|total_orders|total_spent|last_purchase_date|returns_count|avg_order_value|days_since_last_purchase|customer_lifetime_months|\n",
            "+-----------+-----------------+-------------------+-------------------+------------+-----------+------------------+-------------+---------------+------------------------+------------------------+\n",
            "|   CUST0001|          Tablets|             Google|         16/11/2022|          10|      17302|        25/03/2024|            0|           1730|                     124|                      20|\n",
            "|   CUST0002|            Games|             Google|         18/04/2023|          21|      18160|        21/07/2024|            0|            865|                       6|                      15|\n",
            "|   CUST0003|          Tablets|           Orgânico|         10/01/2023|          16|       7309|        30/04/2024|            0|            457|                      88|                      18|\n",
            "|   CUST0004|            Audio|           Facebook|         11/08/2022|           7|       7844|        16/04/2024|            1|           1121|                     101|                      23|\n",
            "|   CUST0005|       Acessórios|           Facebook|         15/10/2023|           5|       1075|        08/09/2023|            2|            215|                     323|                       9|\n",
            "|   CUST0006|       Acessórios|          Indicação|         02/05/2024|           1|       2100|        18/06/2024|            1|           2100|                      39|                       2|\n",
            "|   CUST0007|          Tablets|              Email|         17/02/2023|           5|       4597|        01/03/2024|            1|            919|                     148|                      17|\n",
            "|   CUST0008|          Tablets|              Email|         30/10/2023|          19|       8982|        16/06/2024|            1|            473|                      41|                       8|\n",
            "|   CUST0009|            Games|             Google|         11/03/2024|           6|       2014|        09/04/2024|            0|            336|                     109|                       4|\n",
            "|   CUST0010|            Audio|           Orgânico|         06/05/2023|          32|      17626|        16/07/2024|            0|            551|                      11|                      14|\n",
            "|   CUST0011|        Notebooks|           Facebook|         12/01/2023|          12|       6432|        14/02/2024|            2|            536|                     164|                      18|\n",
            "|   CUST0012|      Smartphones|             Google|         22/07/2022|           4|       3521|        11/01/2024|            0|            880|                     198|                      24|\n",
            "|   CUST0013|            Games|          Indicação|         19/09/2022|          25|      13987|        27/07/2024|            1|            559|                       0|                      22|\n",
            "|   CUST0014|            Audio|              Email|         03/03/2023|           3|       2789|        19/05/2024|            1|            930|                      69|                      16|\n",
            "|   CUST0015|          Tablets|           Orgânico|         28/11/2022|           8|       6234|        02/06/2024|            0|            779|                      55|                      20|\n",
            "|   CUST0016|       Acessórios|           Facebook|         15/06/2024|           2|        845|        22/06/2024|            0|            423|                      35|                       1|\n",
            "|   CUST0017|            Games|             Google|         04/12/2022|          16|      14523|        18/07/2024|            0|            908|                       9|                      19|\n",
            "|   CUST0018|      Smartphones|              Email|         29/08/2022|           6|       2945|        31/10/2023|            3|            491|                     270|                      23|\n",
            "|   CUST0019|            Audio|          Indicação|         07/04/2023|          29|      19876|        25/07/2024|            2|            685|                       2|                      15|\n",
            "|   CUST0020|        Notebooks|           Orgânico|         13/05/2024|           3|       1654|        15/07/2024|            1|            551|                      12|                       2|\n",
            "+-----------+-----------------+-------------------+-------------------+------------+-----------+------------------+-------------+---------------+------------------------+------------------------+\n",
            "only showing top 20 rows\n",
            "\n"
          ]
        }
      ]
    },
    {
      "cell_type": "code",
      "source": [
        "def add_rfv_cluster(df, col_name, new_col_name, reverse=False):\n",
        "    df = df.withColumn(col_name, F.col(col_name).cast(\"int\"))\n",
        "\n",
        "    q1, q2, q3, q4 = df.approxQuantile(col_name, [0.2, 0.4, 0.6, 0.8], 0)\n",
        "\n",
        "    if reverse:\n",
        "        df = df.withColumn(\n",
        "            new_col_name,\n",
        "            F.when(F.col(col_name) <= q1, 1)\n",
        "             .when(F.col(col_name) <= q2, 2)\n",
        "             .when(F.col(col_name) <= q3, 3)\n",
        "             .when(F.col(col_name) <= q4, 4)\n",
        "             .otherwise(5)\n",
        "        )\n",
        "    else:\n",
        "        df = df.withColumn(\n",
        "            new_col_name,\n",
        "            F.when(F.col(col_name) <= q1, 5)\n",
        "             .when(F.col(col_name) <= q2, 4)\n",
        "             .when(F.col(col_name) <= q3, 3)\n",
        "             .when(F.col(col_name) <= q4, 2)\n",
        "             .otherwise(1)\n",
        "        )\n",
        "\n",
        "    return df"
      ],
      "metadata": {
        "id": "TnL0ZyKq3ozR"
      },
      "execution_count": 12,
      "outputs": []
    },
    {
      "cell_type": "code",
      "source": [
        "# days_since_last_purchase → recency cluster\n",
        "customer_df = add_rfv_cluster(customer_df, \"days_since_last_purchase\", \"recency_cluster\", reverse=False)\n",
        "\n",
        "# total_orders → frequency cluster\n",
        "customer_df = add_rfv_cluster(customer_df, \"total_orders\", \"frequency_cluster\", reverse=True)\n",
        "\n",
        "# total_spent → value cluster\n",
        "customer_df = add_rfv_cluster(customer_df, \"total_spent\", \"value_cluster\", reverse=True)\n",
        "\n",
        "# all clusters\n",
        "\n",
        "customer_df = (\n",
        "    customer_df\n",
        "    .withColumn(\"rfv_cluster\", F.concat(F.col(\"recency_cluster\"), F.col(\"frequency_cluster\"), F.col(\"value_cluster\")))\n",
        ")"
      ],
      "metadata": {
        "id": "aKHdP2b74YgW"
      },
      "execution_count": 13,
      "outputs": []
    },
    {
      "cell_type": "code",
      "source": [
        "(\n",
        "    customer_df\n",
        "    .groupBy(\"recency_cluster\")\n",
        "    .agg(\n",
        "        F.round(F.avg(F.col(\"days_since_last_purchase\")), 2).alias(\"avg_days_since_last_purchase\")\n",
        "    )\n",
        "    .orderBy(\"recency_cluster\")\n",
        "    .show()\n",
        ")"
      ],
      "metadata": {
        "colab": {
          "base_uri": "https://localhost:8080/"
        },
        "id": "xsC3i9-OCha3",
        "outputId": "69babe54-29dc-4dce-b552-e9b99cf58afc"
      },
      "execution_count": 14,
      "outputs": [
        {
          "output_type": "stream",
          "name": "stdout",
          "text": [
            "+---------------+----------------------------+\n",
            "|recency_cluster|avg_days_since_last_purchase|\n",
            "+---------------+----------------------------+\n",
            "|              1|                      256.29|\n",
            "|              2|                       130.0|\n",
            "|              3|                       55.43|\n",
            "|              4|                       15.71|\n",
            "|              5|                        3.57|\n",
            "+---------------+----------------------------+\n",
            "\n"
          ]
        }
      ]
    },
    {
      "cell_type": "code",
      "source": [
        "(\n",
        "    customer_df\n",
        "    .groupBy(\"frequency_cluster\")\n",
        "    .agg(\n",
        "        F.round(F.avg(F.col(\"total_orders\")), 2).alias(\"avg_total_orders\")\n",
        "    )\n",
        "    .orderBy(\"frequency_cluster\")\n",
        "    .show()\n",
        ")"
      ],
      "metadata": {
        "colab": {
          "base_uri": "https://localhost:8080/"
        },
        "id": "XKOjX11LkIls",
        "outputId": "2de04f26-3571-42e6-cd59-1e85f356eaf4"
      },
      "execution_count": 15,
      "outputs": [
        {
          "output_type": "stream",
          "name": "stdout",
          "text": [
            "+-----------------+----------------+\n",
            "|frequency_cluster|avg_total_orders|\n",
            "+-----------------+----------------+\n",
            "|                1|             2.5|\n",
            "|                2|             5.5|\n",
            "|                3|             8.0|\n",
            "|                4|           14.29|\n",
            "|                5|           24.29|\n",
            "+-----------------+----------------+\n",
            "\n"
          ]
        }
      ]
    },
    {
      "cell_type": "code",
      "source": [
        "(\n",
        "    customer_df\n",
        "    .groupBy(\"value_cluster\")\n",
        "    .agg(\n",
        "        F.round(F.avg(F.col(\"total_spent\")), 2).alias(\"avg_total_spent\")\n",
        "    )\n",
        "    .orderBy(\"value_cluster\")\n",
        "    .show()\n",
        ")"
      ],
      "metadata": {
        "colab": {
          "base_uri": "https://localhost:8080/"
        },
        "id": "QPUIAO2TrjW1",
        "outputId": "eec6b57b-b8b7-4e65-a20f-f7b283a4ba15"
      },
      "execution_count": 16,
      "outputs": [
        {
          "output_type": "stream",
          "name": "stdout",
          "text": [
            "+-------------+---------------+\n",
            "|value_cluster|avg_total_spent|\n",
            "+-------------+---------------+\n",
            "|            1|        1311.14|\n",
            "|            2|        3516.57|\n",
            "|            3|        6424.71|\n",
            "|            4|       10903.14|\n",
            "|            5|        17672.0|\n",
            "+-------------+---------------+\n",
            "\n"
          ]
        }
      ]
    },
    {
      "cell_type": "code",
      "source": [
        "customer_clusters_df = (\n",
        "    customer_df\n",
        "    .withColumn(\n",
        "        \"tag\",\n",
        "        F.when(\n",
        "            (F.col(\"days_since_last_purchase\") <= 30) &\n",
        "            (F.col(\"total_orders\") >= 8) &\n",
        "            (F.col(\"total_spent\") >= 5000),\n",
        "            \"champions\"\n",
        "        ).when(\n",
        "            (F.col(\"days_since_last_purchase\") > 90) &\n",
        "            (F.col(\"total_orders\") >= 3) &\n",
        "            (F.col(\"total_spent\") >= 1000),\n",
        "            \"at risk\"\n",
        "        ).when(\n",
        "            (F.col(\"days_since_last_purchase\") <= 60) &\n",
        "            (F.col(\"total_orders\") <= 2),\n",
        "            \"new clients\"\n",
        "        ).otherwise(\"loyal\")\n",
        "    )\n",
        "    .withColumn(\n",
        "        \"rfv_score\",\n",
        "        (F.col(\"recency_cluster\") * 0.3) + (F.col(\"frequency_cluster\") * 0.3) + (F.col(\"value_cluster\") * 0.4)\n",
        "    )\n",
        ")"
      ],
      "metadata": {
        "id": "L_Tblc3oCu4y"
      },
      "execution_count": 17,
      "outputs": []
    },
    {
      "cell_type": "code",
      "source": [
        "(\n",
        "    customer_clusters_df\n",
        "    .select(\n",
        "        \"days_since_last_purchase\",\n",
        "        \"total_orders\",\n",
        "        \"total_spent\",\n",
        "        \"recency_cluster\", \"frequency_cluster\", \"value_cluster\",\n",
        "        \"rfv_score\",\n",
        "        \"tag\"\n",
        "    )\n",
        "    .show()\n",
        ")"
      ],
      "metadata": {
        "colab": {
          "base_uri": "https://localhost:8080/"
        },
        "id": "FaG8j0hrGnll",
        "outputId": "5bcbf953-1c51-4acd-a274-440bbfa94bf3"
      },
      "execution_count": 18,
      "outputs": [
        {
          "output_type": "stream",
          "name": "stdout",
          "text": [
            "+------------------------+------------+-----------+---------------+-----------------+-------------+------------------+-----------+\n",
            "|days_since_last_purchase|total_orders|total_spent|recency_cluster|frequency_cluster|value_cluster|         rfv_score|        tag|\n",
            "+------------------------+------------+-----------+---------------+-----------------+-------------+------------------+-----------+\n",
            "|                     124|          10|      17302|              2|                3|            5|               3.5|    at risk|\n",
            "|                       6|          21|      18160|              5|                5|            5|               5.0|  champions|\n",
            "|                      88|          16|       7309|              3|                4|            3|               3.3|      loyal|\n",
            "|                     101|           7|       7844|              2|                3|            4|               3.1|    at risk|\n",
            "|                     323|           5|       1075|              1|                2|            1|1.2999999999999998|    at risk|\n",
            "|                      39|           1|       2100|              3|                1|            1|               1.6|new clients|\n",
            "|                     148|           5|       4597|              2|                2|            2|               2.0|    at risk|\n",
            "|                      41|          19|       8982|              3|                5|            4|               4.0|      loyal|\n",
            "|                     109|           6|       2014|              2|                2|            1|               1.6|    at risk|\n",
            "|                      11|          32|      17626|              4|                5|            5|               4.7|  champions|\n",
            "|                     164|          12|       6432|              2|                4|            3|               3.0|    at risk|\n",
            "|                     198|           4|       3521|              1|                1|            2|               1.4|    at risk|\n",
            "|                       0|          25|      13987|              5|                5|            4|               4.6|  champions|\n",
            "|                      69|           3|       2789|              3|                1|            2|               2.0|      loyal|\n",
            "|                      55|           8|       6234|              3|                3|            3|               3.0|      loyal|\n",
            "|                      35|           2|        845|              4|                1|            1|               1.9|new clients|\n",
            "|                       9|          16|      14523|              4|                4|            4|               4.0|  champions|\n",
            "|                     270|           6|       2945|              1|                2|            2|               1.7|    at risk|\n",
            "|                       2|          29|      19876|              5|                5|            5|               5.0|  champions|\n",
            "|                      12|           3|       1654|              4|                1|            1|               1.9|      loyal|\n",
            "+------------------------+------------+-----------+---------------+-----------------+-------------+------------------+-----------+\n",
            "only showing top 20 rows\n",
            "\n"
          ]
        }
      ]
    },
    {
      "cell_type": "code",
      "source": [
        "(\n",
        "    customer_clusters_df\n",
        "    .groupBy(\"tag\")\n",
        "    .agg(\n",
        "        F.round(F.avg(F.col(\"rfv_score\")), 2).alias(\"avg_rfv_score\")\n",
        "    )\n",
        "    .orderBy(\"avg_rfv_score\")\n",
        "    .show()\n",
        ")"
      ],
      "metadata": {
        "colab": {
          "base_uri": "https://localhost:8080/"
        },
        "id": "z5w1VaVcIVo1",
        "outputId": "d1aaa093-9b55-4bd8-fbd5-e2ced2b98e00"
      },
      "execution_count": 19,
      "outputs": [
        {
          "output_type": "stream",
          "name": "stdout",
          "text": [
            "+-----------+-------------+\n",
            "|        tag|avg_rfv_score|\n",
            "+-----------+-------------+\n",
            "|new clients|         1.75|\n",
            "|    at risk|         2.17|\n",
            "|      loyal|         2.74|\n",
            "|  champions|         4.57|\n",
            "+-----------+-------------+\n",
            "\n"
          ]
        }
      ]
    },
    {
      "cell_type": "markdown",
      "source": [
        "# Part 2"
      ],
      "metadata": {
        "id": "h8PWxB4WZaUL"
      }
    },
    {
      "cell_type": "code",
      "source": [
        "(\n",
        "\n",
        "    .groupBy(\"tag\")\n",
        "    .agg(\n",
        "        F.count(\"customer_id\").alias(\"clients\"),\n",
        "        F.sum(\"total_spent\").alias(\"total_revenue\"),\n",
        "    )\n",
        "    .withColumn(\n",
        "        \"avg_revenue_per_client\",\n",
        "        F.col(\"total_revenue\") / F.col(\"clients\")\n",
        "    )\n",
        "    .withColumn(\n",
        "        \"priority\",\n",
        "        F.when(\n",
        "            F.col(\"tag\") == \"at risk\",\n",
        "            \"high\"\n",
        "        )\n",
        "        .when(\n",
        "            F.col(\"tag\") == \"new clients\",\n",
        "            \"medium\"\n",
        "        )\n",
        "        .when(\n",
        "            F.col(\"tag\") == \"loyal\",\n",
        "            \"low\"\n",
        "        )\n",
        "        .otherwise(\"maintenance\")\n",
        "    )\n",
        "    .show()\n",
        ")"
      ],
      "metadata": {
        "colab": {
          "base_uri": "https://localhost:8080/"
        },
        "id": "39NgLVNsZiPV",
        "outputId": "2b91ef23-1c02-4b0a-a813-7a8b1079c589"
      },
      "execution_count": 20,
      "outputs": [
        {
          "output_type": "stream",
          "name": "stdout",
          "text": [
            "+-----------+-------+-------------+----------------------+-----------+\n",
            "|        tag|clients|total_revenue|avg_revenue_per_client|   priority|\n",
            "+-----------+-------+-------------+----------------------+-----------+\n",
            "|new clients|      4|         4435|               1108.75|     medium|\n",
            "|      loyal|      7|        38078|     5439.714285714285|        low|\n",
            "|    at risk|     13|        70382|                5414.0|       high|\n",
            "|  champions|     11|       165898|    15081.636363636364|maintenance|\n",
            "+-----------+-------+-------------+----------------------+-----------+\n",
            "\n"
          ]
        }
      ]
    },
    {
      "cell_type": "markdown",
      "source": [
        "# Análise RFV e Estratégias por Segmento de Clientes\n",
        "\n",
        "## 1. SEGMENTAÇÃO DE PERFIL\n",
        "\n",
        "### AT RISK (Prioridade: ALTA)\n",
        "- **Tamanho:** 13 clientes (36% da base)\n",
        "\n",
        "- **Receita em risco:** `R$ 70.382` (27% do total)\n",
        "\n",
        "- **Ticket médio:** `R$ 5.414`\n",
        "\n",
        "- **Comportamento:** Clientes que compraram regularmente mas com desengajamento recente (baixa frequência/recência)\n",
        "\n",
        "- **Por que priorizar:** Recuperação é 5-7x mais barata que novos clientes. Risco: perder 27% da receita.\n",
        "\n",
        "### CHAMPIONS (Prioridade: MANUTENÇÃO)\n",
        "- **Tamanho:** 11 clientes (30% da base)\n",
        "\n",
        "- **Receita protegida:** `R$ 165.898` (64% do total)\n",
        "\n",
        "- **Ticket médio:** `R$ 15.081` (2,8x acima da média)\n",
        "\n",
        "- **Comportamento:** Compras frequentes e recentes, alto valor por transação\n",
        "\n",
        "- **Por que priorizar:** 64% da receita com apenas 30% dos clientes. Perda = ROI negativo crítico.\n",
        "\n",
        "### LOYAL (Prioridade: MÉDIA)\n",
        "- **Tamanho:** 7 clientes (19% da base)\n",
        "\n",
        "- **Receita:** `R$ 38.078`\n",
        "\n",
        "- **Ticket médio:** `R$ 5.440`\n",
        "\n",
        "- **Comportamento:** Padrão de compra consistente, sem risco imediato, mas abaixo de Champions\n",
        "\n",
        "- **Por que priorizar:** Menor esforço de retenção + alta propensão a upsell. Potencial crescimento 25-40%.\n",
        "\n",
        "### NEW CLIENTS (Prioridade: MÉDIA)\n",
        "- **Tamanho:** 4 clientes (11% da base)\n",
        "\n",
        "- **Receita:** `R$ 4.435`\n",
        "\n",
        "- **Ticket médio:** `R$ 1.109` (39% da média)\n",
        "\n",
        "- **Comportamento:** Primeira/segunda compra recente, ciclo de decisão em andamento\n",
        "\n",
        "- **Por que priorizar:** Taxa de conversão para cliente retido afeta LTV. Custo de retenção menor que reativação.\n",
        "\n",
        "---\n",
        "\n",
        "## 2. ESTRATÉGIAS POR SEGMENTO\n",
        "\n",
        "### SEGMENTO: AT RISK | Win-Back Campaign\n",
        "\n",
        "**Objetivo:** Reativar 15% em 60 dias, protegendo `R$ 70.382`\n",
        "\n",
        "**Ação Específica:**\n",
        "- **Fase 1 (Semanas 1-2):** Email resgate personalizado com cupom 20% válido 7 dias, segmentado por categoria última compra. *Ex: \"João, sua última compra de Games foi em agosto. 20% OFF nos lançamentos. Válido até sexta.\"*\n",
        "\n",
        "- **Fase 2 (Semanas 3-4):** SMS urgência se sem abertura: \"10% OFF + Frete Grátis - Termina hoje\"\n",
        "\n",
        "- **Fase 3 (Semanas 5-8):** Reengajamento relacional: webinar gratuito, conteúdo educativo (sem vendas)\n",
        "\n",
        "**Canal:** Email 75% → SMS 20% (após 5 dias sem abertura) → App Push 5%\n",
        "\n",
        "**Timing:** Terça-feira 14h | Máximo 2 emails + 1 SMS em 60 dias | Validade 7 dias\n",
        "\n",
        "**Oferta:** 20% cupom categoria anterior + Frete grátis (acima `R$ 100`) + Conteúdo exclusivo\n",
        "\n",
        "**Personalização:** Segmentar por categoria | Nome + referência última compra | Produtos similares/complementares\n",
        "\n",
        "**Operacionalização:**\n",
        "- Responsável: Marketing (automação) + Data (segmentação)\n",
        "\n",
        "- Recursos: Mailchimp/RD Station + Designer 8h + Copywriter 6h\n",
        "\n",
        "- Timeline: Setup 2 semanas | Execução 60 dias\n",
        "\n",
        "- Automação: SIM - Workflow automático por inatividade (0 compras 90+ dias)\n",
        "\n",
        "- KPI Principal: Taxa de Reativação\n",
        "\n",
        "- Métricas Secundárias: Open Rate 22%, CTR 3,5%, AOV esperado `R$ 4.800`\n",
        "\n",
        "**ROI:** Investimento `R$ 2.500` | Taxa sucesso 15% | 2 clientes retidos | Receita protegida `R$ 8.662` | **ROI +246% | Payback 15 dias**\n",
        "\n",
        "---\n",
        "\n",
        "### SEGMENTO: CHAMPIONS | VIP Retention Program\n",
        "\n",
        "**Objetivo:** Proteger `R$ 165.898` + elevar frequência 25%\n",
        "\n",
        "**Ação Específica:**\n",
        "- Acesso antecipado a lançamentos (48h antes)\n",
        "\n",
        "- Birthday discount 25% automático + brinde curado\n",
        "\n",
        "- Cashback 5% acumulável (milhas/créditos)\n",
        "\n",
        "- Atendimento telefônico VIP (suporte prioritário)\n",
        "\n",
        "- Convite eventos exclusivos (4x/ano: Black Friday, Natal, aniversário, especial)\n",
        "\n",
        "*Ex: \"Maria, você é Nossa Campeã. Lançamento 'Game X' chega AMANHÃ só para você + 25% OFF aniversário (nov)\"*\n",
        "\n",
        "**Canal:** Email Premium (semanal) + SMS/App (semanal, exclusivo) + Telefone/Whatsapp (1x trimestral)\n",
        "\n",
        "**Timing:** Quinta-feira 10h | 1 email/semana + 1 SMS/mês | 4 convites/ano\n",
        "\n",
        "**Oferta:** Acesso antecipado (diferenciação) + Cashback acumulável + Presentes personalizados + Concierge\n",
        "\n",
        "**Personalização:** Histórico categorias preferidas | Datas importantes (aniversário, anniversary) | Recomendações baseadas histórico\n",
        "\n",
        "**Operacionalização:**\n",
        "- Responsável: Customer Success + Marketing + Vendas\n",
        "\n",
        "- Recursos: CRM + plataforma cashback + 0,5 FTE atendimento VIP\n",
        "\n",
        "- Timeline: Setup 4 semanas | Execução permanente\n",
        "\n",
        "- Automação: 80% automático (emails/SMS) + 20% humano (telefone)\n",
        "\n",
        "- KPI Principal: Retention Rate (evitar churn)\n",
        "\n",
        "- Métricas Secundárias: Frequência compra, AOV, NPS 70+, Churn Rate\n",
        "\n",
        "**ROI:** Investimento `R$ 60.000`/ano | Taxa sucesso: evitar 2 churn/ano + 25% freq. | Receita protegida `R$ 30.162` + incremental `R$ 41.472` | **ROI +19,4% | Payback 7,5 meses | Retenção esperada 95%+**\n",
        "\n",
        "---\n",
        "\n",
        "### SEGMENTO: LOYAL | Upgrade Path Program\n",
        "\n",
        "**Objetivo:** Converter 5 de 7 clientes para Champions via upsell/cross-sell, elevando AOV 30%\n",
        "\n",
        "**Ação Específica:**\n",
        "- **Fase 1:** Email \"Descuberta\": \"Marina, você adora [Categoria]. Testou nossos kits premium? 15% OFF só para você.\"\n",
        "\n",
        "- **Fase 2 (Dia 5):** SMS time-limited 48h: \"Kit Premium [Categoria] 15% OFF + Brinde (`R$ 200`). Aproveita?\"\n",
        "\n",
        "- **Fase 3 (Dia 10):** Convite \"Clube de Clientes\" (preview VIP): acesso antecipado lançamentos\n",
        "\n",
        "**Canal:** Email primário → SMS (se não abriu) → App Push (re-engajamento semanal)\n",
        "\n",
        "**Timing:** Segunda-feira 11h | 1 email/semana + 1 SMS/2 semanas | Oferta válida 7 dias\n",
        "\n",
        "**Oferta:** 15% categoria complementar (upsell) + Kit descoberta premium + Progressão VIP (gamificação)\n",
        "\n",
        "**Personalização:** Análise histórico (Games → Acessórios Gaming) | Gap: freq. alta mas ticket baixo = upsell | Conteúdo educativo upgrade\n",
        "\n",
        "**Operacionalização:**\n",
        "- Responsável: Marketing (automação) + Product (recomendações)\n",
        "\n",
        "- Recursos: Ferramenta recomendação + Copywriter 4h/mês\n",
        "\n",
        "- Timeline: Setup 3 semanas | Execução contínua\n",
        "\n",
        "- Automação: SIM - 100% via gatilhos comportamento\n",
        "\n",
        "- KPI Principal: Taxa Conversão para Champion\n",
        "\n",
        "- Métricas Secundárias: AOV, Open Rate 24%, CTR 4,5%\n",
        "\n",
        "**ROI:** Investimento `R$ 9.600`/ano | Taxa sucesso 30% | 2 clientes convertidos | **Ano 1: -54% | Ano 2+: +214% (como Champions) | Payback 8 meses**\n",
        "\n",
        "---\n",
        "\n",
        "### SEGMENTO: NEW CLIENTS | First Repeat Purchase Campaign\n",
        "\n",
        "**Objetivo:** Converter 75% (3 de 4) em 2ª compra em 45 dias, validando LTV\n",
        "\n",
        "**Ação Específica:**\n",
        "- **Dia 1-2:** Email agradecimento + \"Guia Bem-vindo\" (FAQ + dicas uso)\n",
        "\n",
        "- **Dia 7:** Email educativo: conteúdo categoria, casos uso, vídeo\n",
        "\n",
        "- **Dia 14:** SMS criativo: \"João, primeira vez é sempre especial. PRIMEIRAEZ15 [Categoria] + Frete Grátis\"\n",
        "\n",
        "- **Dia 21:** Email social proof: reviews positivos novos clientes + 15% desconto exclusivo\n",
        "\n",
        "- **Dia 30:** SMS final: \"Desconto 15% vence em 5 dias. Aproveita?\"\n",
        "\n",
        "**Canal:** Email (educativo) → SMS (ação) + App Push (se ativo no app)\n",
        "\n",
        "**Timing:** Primeira ação 2h após compra | Cadência dias 2, 7, 14, 21, 30 | Ofertas válidas 14 dias\n",
        "\n",
        "**Oferta:** 15% categoria complementar + Frete grátis + Conteúdo gratuito (webinar/guia/vídeo)\n",
        "\n",
        "**Personalização:** Recomendação cruzada por categoria | Tom amigável educativo (não vendedor)\n",
        "\n",
        "**Operacionalização:**\n",
        "- Responsável: Marketing (automação) + CS (suporte)\n",
        "\n",
        "- Recursos: Workflow automático (setup 2h) + Copywriter 2h templates\n",
        "\n",
        "- Timeline: Setup 2 semanas | Execução automática por novo cliente\n",
        "\n",
        "- Automação: SIM - 100% por gatilho primeira compra\n",
        "\n",
        "- KPI Principal: Taxa Segunda Compra (Repeat Purchase Rate)\n",
        "\n",
        "- Métricas Secundárias: Open Rate 28%, CTR 4,2%, AOV similar ou +10%\n",
        "\n",
        "**ROI:** Investimento `R$ 500` | Taxa sucesso 40% | 2 clientes repeat | Receita `R$ 1.774` | **ROI +254% | Payback imediato**\n",
        "\n",
        "---\n",
        "\n",
        "## 3. PRIORIZAÇÃO DE AÇÕES\n",
        "\n",
        "**VITÓRIAS CERTAS** (Alto Impacto/Baixo Esforço)\n",
        "- At Risk: Email automático win-back\n",
        "\n",
        "- New Clients: Onboarding automático\n",
        "\n",
        "**APOSTAS ESTRATÉGICAS** (Alto Impacto/Alto Esforço)\n",
        "- Champions: VIP Retention Program\n",
        "\n",
        "- Loyal: Upgrade Path automático\n",
        "\n",
        "**EVITAR** (Baixo Impacto/Alto Esforço)\n",
        "- Discagem manual personalizada\n",
        "\n",
        "- Eventos presenciais frequentes\n",
        "\n",
        "**Sequência Recomendada:**\n",
        "1. Semana 1: New Clients onboarding (baixo custo, alto ROI)\n",
        "\n",
        "2. Semana 2-3: At Risk win-back (proteção receita crítica)\n",
        "\n",
        "3. Semana 4-6: Champions VIP (infraestrutura maior)\n",
        "\n",
        "4. Semana 7+: Loyal upgrade path (sustentação crescimento)\n",
        "\n",
        "---\n",
        "\n",
        "## 4. RESUMO EXECUTIVO\n",
        "\n",
        "| Segmento | Tamanho | Receita | Estratégia | Investimento | ROI Ano 1 | Ação |\n",
        "|----------|---------|---------|-----------|--------------|-----------|------|\n",
        "| AT RISK | 13 | `R$ 70.382` | Win-back urgência | `R$ 2.500` | +246% | IMPLEMENTAR IMEDIATO |\n",
        "| CHAMPIONS | 11 | `R$ 165.898` | VIP Retention | `R$ 60.000` | +19% | IMPLEMENTAR MESES 1-2 |\n",
        "| LOYAL | 7 | `R$ 38.078` | Upgrade Path | `R$ 9.600` | -54% Y1 / +214% Y2+ | IMPLEMENTAR MÊS 2-3 |\n",
        "| NEW CLIENTS | 4 | `R$ 4.435` | Onboarding | `R$ 500` | +254% | IMPLEMENTAR IMEDIATO |\n",
        "\n",
        "**Consolidado:**\n",
        "- Valor total em jogo: `R$ 278.793`\n",
        "\n",
        "- Investimento anual: `R$ 72.600`\n",
        "\n",
        "- ROI esperado: +190% (Ano 1) + ganho recorrente retenção\n",
        "\n",
        "- Payback consolidado: 4-5 meses\n",
        "\n",
        "- Receita protegida/gerada: `R$ 81.902` (proteção) + `R$ 47.598` (incremental) = `R$ 129.500`"
      ],
      "metadata": {
        "id": "S0FYZMjP0FMu"
      }
    },
    {
      "cell_type": "code",
      "source": [],
      "metadata": {
        "id": "vbOQeXsG5-nY"
      },
      "execution_count": null,
      "outputs": []
    }
  ]
}